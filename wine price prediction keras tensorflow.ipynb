{
 "cells": [
  {
   "cell_type": "code",
   "execution_count": 0,
   "metadata": {
    "colab": {},
    "colab_type": "code",
    "id": "pbUu45gbP7lM"
   },
   "outputs": [],
   "source": [
    "from __future__ import absolute_import\n",
    "from __future__ import division\n",
    "from __future__ import print_function"
   ]
  },
  {
   "cell_type": "code",
   "execution_count": 0,
   "metadata": {
    "colab": {},
    "colab_type": "code",
    "id": "bdgxBg6FP8jX"
   },
   "outputs": [],
   "source": [
    "# Install the latest version of TensorFlow\n",
    "!pip install -q -U tensorflow==1.7.0"
   ]
  },
  {
   "cell_type": "code",
   "execution_count": 3,
   "metadata": {
    "colab": {
     "base_uri": "https://localhost:8080/",
     "height": 35
    },
    "colab_type": "code",
    "id": "nv2GK3NXQDAZ",
    "outputId": "ee6ef2c7-56ec-4579-d150-7249f3f727cc"
   },
   "outputs": [
    {
     "name": "stdout",
     "output_type": "stream",
     "text": [
      "You have tensorflow version 1.7.0\n"
     ]
    }
   ],
   "source": [
    "import itertools\n",
    "import os\n",
    "import math\n",
    "import numpy as np\n",
    "import pandas as pd\n",
    "import tensorflow as tf\n",
    "\n",
    "from sklearn.preprocessing import LabelEncoder\n",
    "from tensorflow import keras\n",
    "layers = keras.layers\n",
    "\n",
    "#Using TF 1.7\n",
    "print(\"You have tensorflow version\", tf.__version__)"
   ]
  },
  {
   "cell_type": "code",
   "execution_count": 0,
   "metadata": {
    "colab": {},
    "colab_type": "code",
    "id": "BtIS8mAeQqaE"
   },
   "outputs": [],
   "source": [
    "# Grabbing the dataset  - Original source (https://www.kaggle.com/zynicide/wine-reviews/data)\n",
    "URL = \"https://storage.googleapis.com/sara-cloud-ml/wine_data.csv\"\n",
    "path = tf.keras.utils.get_file(URL.split('/')[-1], URL)"
   ]
  },
  {
   "cell_type": "code",
   "execution_count": 0,
   "metadata": {
    "colab": {},
    "colab_type": "code",
    "id": "X6jrbx0oRoLM"
   },
   "outputs": [],
   "source": [
    "#reading data using pandas\n",
    "data = pd.read_csv(path)"
   ]
  },
  {
   "cell_type": "code",
   "execution_count": 6,
   "metadata": {
    "colab": {
     "base_uri": "https://localhost:8080/",
     "height": 302
    },
    "colab_type": "code",
    "id": "cu37eTPoR4nb",
    "outputId": "d83d0835-bea7-4c7a-c7f3-218b0b52661b"
   },
   "outputs": [
    {
     "data": {
      "text/html": [
       "<div>\n",
       "<style scoped>\n",
       "    .dataframe tbody tr th:only-of-type {\n",
       "        vertical-align: middle;\n",
       "    }\n",
       "\n",
       "    .dataframe tbody tr th {\n",
       "        vertical-align: top;\n",
       "    }\n",
       "\n",
       "    .dataframe thead th {\n",
       "        text-align: right;\n",
       "    }\n",
       "</style>\n",
       "<table border=\"1\" class=\"dataframe\">\n",
       "  <thead>\n",
       "    <tr style=\"text-align: right;\">\n",
       "      <th></th>\n",
       "      <th>Unnamed: 0</th>\n",
       "      <th>country</th>\n",
       "      <th>description</th>\n",
       "      <th>designation</th>\n",
       "      <th>points</th>\n",
       "      <th>price</th>\n",
       "      <th>province</th>\n",
       "      <th>region_1</th>\n",
       "      <th>region_2</th>\n",
       "      <th>variety</th>\n",
       "      <th>winery</th>\n",
       "    </tr>\n",
       "  </thead>\n",
       "  <tbody>\n",
       "    <tr>\n",
       "      <th>1296</th>\n",
       "      <td>1296</td>\n",
       "      <td>US</td>\n",
       "      <td>Toffee, cinnamon apples and a hefty swirl of s...</td>\n",
       "      <td>NaN</td>\n",
       "      <td>87</td>\n",
       "      <td>16.0</td>\n",
       "      <td>California</td>\n",
       "      <td>Santa Barbara County</td>\n",
       "      <td>Central Coast</td>\n",
       "      <td>Chardonnay</td>\n",
       "      <td>Byron</td>\n",
       "    </tr>\n",
       "    <tr>\n",
       "      <th>3942</th>\n",
       "      <td>3942</td>\n",
       "      <td>US</td>\n",
       "      <td>A lovely hue, this is scented with crushed ros...</td>\n",
       "      <td>McCrone Vineyard</td>\n",
       "      <td>94</td>\n",
       "      <td>63.0</td>\n",
       "      <td>Oregon</td>\n",
       "      <td>Willamette Valley</td>\n",
       "      <td>NaN</td>\n",
       "      <td>Pinot Noir</td>\n",
       "      <td>Ken Wright</td>\n",
       "    </tr>\n",
       "    <tr>\n",
       "      <th>36673</th>\n",
       "      <td>36673</td>\n",
       "      <td>US</td>\n",
       "      <td>The best of the 2008 Syrah lineup from Walter ...</td>\n",
       "      <td>C'est Syrah Beaux</td>\n",
       "      <td>92</td>\n",
       "      <td>38.0</td>\n",
       "      <td>Washington</td>\n",
       "      <td>Columbia Valley (WA)</td>\n",
       "      <td>Columbia Valley</td>\n",
       "      <td>Syrah</td>\n",
       "      <td>Walter Dacon</td>\n",
       "    </tr>\n",
       "    <tr>\n",
       "      <th>121569</th>\n",
       "      <td>121569</td>\n",
       "      <td>US</td>\n",
       "      <td>Miraflores bring a Merlot-style balance to thi...</td>\n",
       "      <td>Herbert Vineyard</td>\n",
       "      <td>92</td>\n",
       "      <td>24.0</td>\n",
       "      <td>California</td>\n",
       "      <td>El Dorado</td>\n",
       "      <td>Sierra Foothills</td>\n",
       "      <td>Zinfandel</td>\n",
       "      <td>Miraflores</td>\n",
       "    </tr>\n",
       "    <tr>\n",
       "      <th>35119</th>\n",
       "      <td>35119</td>\n",
       "      <td>US</td>\n",
       "      <td>This has that distinctive diesel-fuel aroma of...</td>\n",
       "      <td>Camp 4 Vineyard</td>\n",
       "      <td>88</td>\n",
       "      <td>20.0</td>\n",
       "      <td>California</td>\n",
       "      <td>Santa Ynez Valley</td>\n",
       "      <td>Central Coast</td>\n",
       "      <td>Grenache Blanc</td>\n",
       "      <td>Tercero</td>\n",
       "    </tr>\n",
       "  </tbody>\n",
       "</table>\n",
       "</div>"
      ],
      "text/plain": [
       "        Unnamed: 0 country                                        description  \\\n",
       "1296          1296      US  Toffee, cinnamon apples and a hefty swirl of s...   \n",
       "3942          3942      US  A lovely hue, this is scented with crushed ros...   \n",
       "36673        36673      US  The best of the 2008 Syrah lineup from Walter ...   \n",
       "121569      121569      US  Miraflores bring a Merlot-style balance to thi...   \n",
       "35119        35119      US  This has that distinctive diesel-fuel aroma of...   \n",
       "\n",
       "              designation  points  price    province              region_1  \\\n",
       "1296                  NaN      87   16.0  California  Santa Barbara County   \n",
       "3942     McCrone Vineyard      94   63.0      Oregon     Willamette Valley   \n",
       "36673   C'est Syrah Beaux      92   38.0  Washington  Columbia Valley (WA)   \n",
       "121569   Herbert Vineyard      92   24.0  California             El Dorado   \n",
       "35119     Camp 4 Vineyard      88   20.0  California     Santa Ynez Valley   \n",
       "\n",
       "                region_2         variety        winery  \n",
       "1296       Central Coast      Chardonnay         Byron  \n",
       "3942                 NaN      Pinot Noir    Ken Wright  \n",
       "36673    Columbia Valley           Syrah  Walter Dacon  \n",
       "121569  Sierra Foothills       Zinfandel    Miraflores  \n",
       "35119      Central Coast  Grenache Blanc       Tercero  "
      ]
     },
     "execution_count": 6,
     "metadata": {
      "tags": []
     },
     "output_type": "execute_result"
    }
   ],
   "source": [
    "#Shuffle the data\n",
    "data = data.sample(frac=1)\n",
    "\n",
    "\n",
    "#print the first 5 rows\n",
    "data.head()"
   ]
  },
  {
   "cell_type": "code",
   "execution_count": 0,
   "metadata": {
    "colab": {},
    "colab_type": "code",
    "id": "JAarTvrVSeRk"
   },
   "outputs": [],
   "source": [
    "#processing to limit thw number of wine varities in the dataset\n",
    "data = data[pd.notnull(data['country'])]\n",
    "data = data[pd.notnull(data['price'])]\n",
    "data = data.drop(data.columns[0], axis=1)\n",
    "\n",
    "variety_threshold = 500 #Anything that occurs less then 500 will be removed\n",
    "value_counts = data['variety'].value_counts()\n",
    "to_remove = value_counts[value_counts <= variety_threshold].index\n",
    "data.replace(to_remove, np.nan, inplace = True)\n",
    "data = data[pd.notnull(data['variety'])]"
   ]
  },
  {
   "cell_type": "code",
   "execution_count": 8,
   "metadata": {
    "colab": {
     "base_uri": "https://localhost:8080/",
     "height": 54
    },
    "colab_type": "code",
    "id": "JkdiXDMDUTxf",
    "outputId": "375062f5-4f75-4c3d-b8ef-89374f558647"
   },
   "outputs": [
    {
     "name": "stdout",
     "output_type": "stream",
     "text": [
      "train Size : 95646\n",
      "test Size : 23912\n"
     ]
    }
   ],
   "source": [
    "# Split data into train and test\n",
    "train_size = int(len(data) * .8)\n",
    "print(\"train Size : %d\" % train_size)\n",
    "print(\"test Size : %d\" % (len(data) - train_size))"
   ]
  },
  {
   "cell_type": "code",
   "execution_count": 0,
   "metadata": {
    "colab": {},
    "colab_type": "code",
    "id": "Csr3rAtuVC4k"
   },
   "outputs": [],
   "source": [
    "#train features\n",
    "description_train  = data['description'][:train_size]\n",
    "variety_train = data['variety'][:train_size]\n",
    "\n",
    "#train lables\n",
    "labels_train = data['price'][:train_size]\n",
    "\n",
    "#test features\n",
    "\n",
    "description_test = data['description'][train_size:]\n",
    "variety_test = data['variety'][train_size:]\n",
    "\n",
    "#test lables\n",
    "labels_test = data['price'][train_size:]"
   ]
  },
  {
   "cell_type": "code",
   "execution_count": 0,
   "metadata": {
    "colab": {},
    "colab_type": "code",
    "id": "WPeVVqLJV_SC"
   },
   "outputs": [],
   "source": [
    "#create a tokenizer to preprocess our text description\n",
    "vocab_size = 12000 # This is hyperparameter, experiment with different values for the dataset\n",
    "tokenize = keras.preprocessing.text.Tokenizer(num_words = vocab_size, char_level=False)\n",
    "tokenize.fit_on_texts(description_train) # only fit on train"
   ]
  },
  {
   "cell_type": "code",
   "execution_count": 0,
   "metadata": {
    "colab": {},
    "colab_type": "code",
    "id": "ExfLtxKkXDiK"
   },
   "outputs": [],
   "source": [
    "#Wide feature 1 : Sparse bag of words (bow) vocab_size vector\n",
    "description_bow_train = tokenize.texts_to_matrix(description_train)\n",
    "description_bow_test = tokenize.texts_to_matrix(description_test)"
   ]
  },
  {
   "cell_type": "code",
   "execution_count": 0,
   "metadata": {
    "colab": {},
    "colab_type": "code",
    "id": "EU0PUrG6X8n0"
   },
   "outputs": [],
   "source": [
    "# Wide feature 2: one-hot vector of variety categories\n",
    "\n",
    "# Use sklearn utility to convert label strings to numbered index\n",
    "encoder = LabelEncoder()\n",
    "encoder.fit(variety_train)\n",
    "variety_train = encoder.transform(variety_train)\n",
    "variety_test = encoder.transform(variety_test)\n",
    "num_classes = np.max(variety_train) + 1\n",
    "\n",
    "# Convert labels to one hot\n",
    "variety_train = keras.utils.to_categorical(variety_train, num_classes)\n",
    "variety_test = keras.utils.to_categorical(variety_test, num_classes)"
   ]
  },
  {
   "cell_type": "code",
   "execution_count": 0,
   "metadata": {
    "colab": {},
    "colab_type": "code",
    "id": "uZXUxodxcaKt"
   },
   "outputs": [],
   "source": [
    "# Define our wide model with the functional API\n",
    "bow_inputs = layers.Input(shape=(vocab_size,))\n",
    "variety_inputs = layers.Input(shape=(num_classes,))\n",
    "merged_layer = layers.concatenate([bow_inputs, variety_inputs])\n",
    "merged_layer = layers.Dense(256, activation='relu')(merged_layer)\n",
    "predictions = layers.Dense(1)(merged_layer)\n",
    "wide_model = keras.Model(inputs=[bow_inputs, variety_inputs], outputs=predictions)\n",
    "\n",
    "                                                     "
   ]
  },
  {
   "cell_type": "code",
   "execution_count": 14,
   "metadata": {
    "colab": {
     "base_uri": "https://localhost:8080/",
     "height": 363
    },
    "colab_type": "code",
    "id": "sm-0vsWMe0s3",
    "outputId": "ca2eecd6-31a7-4c8b-d532-7155bbef8d47"
   },
   "outputs": [
    {
     "name": "stdout",
     "output_type": "stream",
     "text": [
      "__________________________________________________________________________________________________\n",
      "Layer (type)                    Output Shape         Param #     Connected to                     \n",
      "==================================================================================================\n",
      "input_1 (InputLayer)            (None, 12000)        0                                            \n",
      "__________________________________________________________________________________________________\n",
      "input_2 (InputLayer)            (None, 40)           0                                            \n",
      "__________________________________________________________________________________________________\n",
      "concatenate_1 (Concatenate)     (None, 12040)        0           input_1[0][0]                    \n",
      "                                                                 input_2[0][0]                    \n",
      "__________________________________________________________________________________________________\n",
      "dense_1 (Dense)                 (None, 256)          3082496     concatenate_1[0][0]              \n",
      "__________________________________________________________________________________________________\n",
      "dense_2 (Dense)                 (None, 1)            257         dense_1[0][0]                    \n",
      "==================================================================================================\n",
      "Total params: 3,082,753\n",
      "Trainable params: 3,082,753\n",
      "Non-trainable params: 0\n",
      "__________________________________________________________________________________________________\n",
      "None\n"
     ]
    }
   ],
   "source": [
    "wide_model.compile(loss='mse', optimizer='adam', metrics=['accuracy'])\n",
    "print(wide_model.summary())"
   ]
  },
  {
   "cell_type": "code",
   "execution_count": 0,
   "metadata": {
    "colab": {},
    "colab_type": "code",
    "id": "XmDEinToe9TT"
   },
   "outputs": [],
   "source": [
    "# Deep model feature: word embeddings of wine descriptions\n",
    "train_embed = tokenize.texts_to_sequences(description_train)\n",
    "test_embed = tokenize.texts_to_sequences(description_test)\n",
    "\n",
    "max_seq_length = 170\n",
    "train_embed = keras.preprocessing.sequence.pad_sequences(\n",
    "    train_embed, maxlen=max_seq_length, padding=\"post\")\n",
    "test_embed = keras.preprocessing.sequence.pad_sequences(\n",
    "    test_embed, maxlen=max_seq_length, padding=\"post\")"
   ]
  },
  {
   "cell_type": "code",
   "execution_count": 16,
   "metadata": {
    "colab": {
     "base_uri": "https://localhost:8080/",
     "height": 308
    },
    "colab_type": "code",
    "id": "avj9ynQXfFLt",
    "outputId": "1b6bce5c-8e5d-4a96-9b26-adf9eabf71ba"
   },
   "outputs": [
    {
     "name": "stdout",
     "output_type": "stream",
     "text": [
      "_________________________________________________________________\n",
      "Layer (type)                 Output Shape              Param #   \n",
      "=================================================================\n",
      "input_3 (InputLayer)         (None, 170)               0         \n",
      "_________________________________________________________________\n",
      "embedding_1 (Embedding)      (None, 170, 8)            96000     \n",
      "_________________________________________________________________\n",
      "flatten_1 (Flatten)          (None, 1360)              0         \n",
      "_________________________________________________________________\n",
      "dense_3 (Dense)              (None, 1)                 1361      \n",
      "=================================================================\n",
      "Total params: 97,361\n",
      "Trainable params: 97,361\n",
      "Non-trainable params: 0\n",
      "_________________________________________________________________\n",
      "None\n"
     ]
    }
   ],
   "source": [
    "\n",
    "# Define our deep model with the Functional API\n",
    "deep_inputs = layers.Input(shape=(max_seq_length,))\n",
    "embedding = layers.Embedding(vocab_size, 8, input_length=max_seq_length)(deep_inputs)\n",
    "embedding = layers.Flatten()(embedding)\n",
    "embed_out = layers.Dense(1)(embedding)\n",
    "deep_model = keras.Model(inputs=deep_inputs, outputs=embed_out)\n",
    "print(deep_model.summary())"
   ]
  },
  {
   "cell_type": "code",
   "execution_count": 0,
   "metadata": {
    "colab": {},
    "colab_type": "code",
    "id": "xmiXysYGfI12"
   },
   "outputs": [],
   "source": [
    "deep_model.compile(loss='mse',\n",
    "                       optimizer='adam',\n",
    "                       metrics=['accuracy'])"
   ]
  },
  {
   "cell_type": "code",
   "execution_count": 18,
   "metadata": {
    "colab": {
     "base_uri": "https://localhost:8080/",
     "height": 599
    },
    "colab_type": "code",
    "id": "xM-FhCTifMmp",
    "outputId": "b294c77a-e7b3-4ea9-dd2b-b4b77c7a8081"
   },
   "outputs": [
    {
     "name": "stdout",
     "output_type": "stream",
     "text": [
      "__________________________________________________________________________________________________\n",
      "Layer (type)                    Output Shape         Param #     Connected to                     \n",
      "==================================================================================================\n",
      "input_1 (InputLayer)            (None, 12000)        0                                            \n",
      "__________________________________________________________________________________________________\n",
      "input_2 (InputLayer)            (None, 40)           0                                            \n",
      "__________________________________________________________________________________________________\n",
      "input_3 (InputLayer)            (None, 170)          0                                            \n",
      "__________________________________________________________________________________________________\n",
      "concatenate_1 (Concatenate)     (None, 12040)        0           input_1[0][0]                    \n",
      "                                                                 input_2[0][0]                    \n",
      "__________________________________________________________________________________________________\n",
      "embedding_1 (Embedding)         (None, 170, 8)       96000       input_3[0][0]                    \n",
      "__________________________________________________________________________________________________\n",
      "dense_1 (Dense)                 (None, 256)          3082496     concatenate_1[0][0]              \n",
      "__________________________________________________________________________________________________\n",
      "flatten_1 (Flatten)             (None, 1360)         0           embedding_1[0][0]                \n",
      "__________________________________________________________________________________________________\n",
      "dense_2 (Dense)                 (None, 1)            257         dense_1[0][0]                    \n",
      "__________________________________________________________________________________________________\n",
      "dense_3 (Dense)                 (None, 1)            1361        flatten_1[0][0]                  \n",
      "__________________________________________________________________________________________________\n",
      "concatenate_2 (Concatenate)     (None, 2)            0           dense_2[0][0]                    \n",
      "                                                                 dense_3[0][0]                    \n",
      "__________________________________________________________________________________________________\n",
      "dense_4 (Dense)                 (None, 1)            3           concatenate_2[0][0]              \n",
      "==================================================================================================\n",
      "Total params: 3,180,117\n",
      "Trainable params: 3,180,117\n",
      "Non-trainable params: 0\n",
      "__________________________________________________________________________________________________\n",
      "None\n"
     ]
    }
   ],
   "source": [
    "# Combine wide and deep into one model\n",
    "merged_out = layers.concatenate([wide_model.output, deep_model.output])\n",
    "merged_out = layers.Dense(1)(merged_out)\n",
    "combined_model = keras.Model(wide_model.input + [deep_model.input], merged_out)\n",
    "print(combined_model.summary())\n",
    "\n",
    "combined_model.compile(loss='mse',\n",
    "                       optimizer='adam',\n",
    "                       metrics=['accuracy'])"
   ]
  },
  {
   "cell_type": "code",
   "execution_count": 19,
   "metadata": {
    "colab": {
     "base_uri": "https://localhost:8080/",
     "height": 399
    },
    "colab_type": "code",
    "id": "MGJbgdOcfPH1",
    "outputId": "1502e00b-986d-45d8-f300-ed3180f9ff81"
   },
   "outputs": [
    {
     "name": "stdout",
     "output_type": "stream",
     "text": [
      "Epoch 1/10\n",
      "95646/95646 [==============================] - 105s 1ms/step - loss: 1109.9430 - acc: 0.0272\n",
      "Epoch 2/10\n",
      "95646/95646 [==============================] - 104s 1ms/step - loss: 877.2418 - acc: 0.0363\n",
      "Epoch 3/10\n",
      "95646/95646 [==============================] - 104s 1ms/step - loss: 738.9569 - acc: 0.0424\n",
      "Epoch 4/10\n",
      "95646/95646 [==============================] - 104s 1ms/step - loss: 609.7790 - acc: 0.0458\n",
      "Epoch 5/10\n",
      "95646/95646 [==============================] - 104s 1ms/step - loss: 490.0203 - acc: 0.0501\n",
      "Epoch 6/10\n",
      "95646/95646 [==============================] - 104s 1ms/step - loss: 381.0282 - acc: 0.0579\n",
      "Epoch 7/10\n",
      "95646/95646 [==============================] - 105s 1ms/step - loss: 288.1892 - acc: 0.0684\n",
      "Epoch 8/10\n",
      "95646/95646 [==============================] - 106s 1ms/step - loss: 218.7580 - acc: 0.0775\n",
      "Epoch 9/10\n",
      "95646/95646 [==============================] - 106s 1ms/step - loss: 165.7853 - acc: 0.0934\n",
      "Epoch 10/10\n",
      "95646/95646 [==============================] - 106s 1ms/step - loss: 127.0646 - acc: 0.1021\n"
     ]
    },
    {
     "data": {
      "text/plain": [
       "<tensorflow.python.keras._impl.keras.callbacks.History at 0x7f0ea93d21d0>"
      ]
     },
     "execution_count": 19,
     "metadata": {
      "tags": []
     },
     "output_type": "execute_result"
    }
   ],
   "source": [
    "# Run training\n",
    "combined_model.fit([description_bow_train, variety_train] + [train_embed], labels_train, epochs=10, batch_size=128)"
   ]
  },
  {
   "cell_type": "code",
   "execution_count": 20,
   "metadata": {
    "colab": {
     "base_uri": "https://localhost:8080/",
     "height": 54
    },
    "colab_type": "code",
    "id": "57hFp88CfR42",
    "outputId": "4a59cc25-da59-4124-c32d-1d90bc7ac34c"
   },
   "outputs": [
    {
     "name": "stdout",
     "output_type": "stream",
     "text": [
      "23912/23912 [==============================] - 8s 335us/step\n"
     ]
    },
    {
     "data": {
      "text/plain": [
       "[710.7153868791689, 0.0727668116439362]"
      ]
     },
     "execution_count": 20,
     "metadata": {
      "tags": []
     },
     "output_type": "execute_result"
    }
   ],
   "source": [
    "\n",
    "combined_model.evaluate([description_bow_test, variety_test] + [test_embed], labels_test, batch_size=128)"
   ]
  },
  {
   "cell_type": "code",
   "execution_count": 0,
   "metadata": {
    "colab": {},
    "colab_type": "code",
    "id": "LxpOHsAWfW1F"
   },
   "outputs": [],
   "source": [
    "# Generate predictions\n",
    "predictions = combined_model.predict([description_bow_test, variety_test] + [test_embed])"
   ]
  },
  {
   "cell_type": "code",
   "execution_count": 22,
   "metadata": {
    "colab": {
     "base_uri": "https://localhost:8080/",
     "height": 2219
    },
    "colab_type": "code",
    "id": "oZ_uMuTZfZxZ",
    "outputId": "29e7cbeb-6d7f-4bff-a801-737edea0ae67"
   },
   "outputs": [
    {
     "name": "stdout",
     "output_type": "stream",
     "text": [
      "A good choice for fans of a generously oaked style, this is a weighty white with complex notes of caramel and vanilla that pick up a papaya undertone on the finish. Too powerful for most fish dishes but fine with cheese. Drink now to 2012.\n",
      "Predicted:  21.471981 Actual:  17.0 \n",
      "\n",
      "Light in body, and very dry and silky, this is an elegantly structured Pinot Noir. It shows modest, but clean, flavors of cherries, black raspberries, cocoa and vanilla. Drink now.\n",
      "Predicted:  24.384624 Actual:  29.0 \n",
      "\n",
      "The top wine from Château Chambert is huge and densely concentrated. It has a solid, black fruited feel to it along its immense tannins. It's richness has given its structure a sweeter almost jammy finish. The wine will certainly age many years.\n",
      "Predicted:  78.966774 Actual:  70.0 \n",
      "\n",
      "Rounded and smooth wine, with rich apricot and nectarine flavors as well as tight acidity. It is structured, pear and apple skins giving shape to a wine that is good to drink now and will also age.\n",
      "Predicted:  17.071169 Actual:  15.0 \n",
      "\n",
      "This has a fresh, tonic disposition and fragrant aromas of green apple, kiwi and white flowers. It's creamy and full in texture with good, fresh persistence on the finale.\n",
      "Predicted:  23.9321 Actual:  24.0 \n",
      "\n",
      "Here's a concentrated effort, with its tannins providing a powerful force behind the sweet-tasting fruit. A flavor of wood shows strongly, and the wine has a rich, full-bodied feel, with fine structure for aging.\n",
      "Predicted:  36.142628 Actual:  17.0 \n",
      "\n",
      "Richer and more balanced than the two previous vintages, with opulent cherry pastry filling, blackberry, blueberry, cocoa and spice flavors that are superripe, but essentially dry. Good tannins and acids, too. A wine to watch.\n",
      "Predicted:  17.71666 Actual:  19.0 \n",
      "\n",
      "Aromatically, this has pure Casablanca scents of tropical fruit, citrus and mineral. It's flavored with tangerine and other citrus fruits, and it's quite angular, tangy and fresh on the tongue. Elegant and finessed; a racy specimen with good character.\n",
      "Predicted:  6.9065204 Actual:  13.0 \n",
      "\n",
      "Steeped plum and chopped herb scents lead the nose and follow through to the rather lean palate, which is marked by red cherry and a hint of star anise. Youthfully assertive tannins provide a firm finish. This needs a few more years to come around.\n",
      "Predicted:  26.70851 Actual:  43.0 \n",
      "\n",
      "This wine's aromas of baked apple, honey, cinnamon and brown sugar are immediately attractive, and in the mouth it doesn't disappoint. It's broad and mouthfilling but avoids heaviness, finishing long, with hints of orange rind.\n",
      "Predicted:  30.720015 Actual:  28.0 \n",
      "\n",
      "There's a burly amount of black fruit and black tea in this estate wine, concentrated and coiled in a tight tannic structure. The fruit tends toward ripe black cherry and even blackberry, the texture is soft and the finish delightfully marked by a touch of chocolate.\n",
      "Predicted:  72.731255 Actual:  42.0 \n",
      "\n",
      "Some producer in Carneros didn't want the wine that went into this negociant's ‘07 Syrah, to judge by its quality. Lucky for Cameron Hughes. It's a fine wine, full-bodied and dry, with spicy flavors of currants, teriaki beef, black pepper and cola, with a bracing minerality that grounds the richness. Could be more concentrated, but it's a very great value.\n",
      "Predicted:  10.325807 Actual:  12.0 \n",
      "\n",
      "This wine is concentrated ripe, full fruits, as well as intense acidity. It shows a forward style but doesn't losing sight of its tight, dark structure. Drink this balanced wine from 2017.\n",
      "Predicted:  62.76748 Actual:  80.0 \n",
      "\n",
      "Reduced and thickly concocted, this wine overpowers in big tannin and oak. The fruit presents a mix of cherry and cassis wrapped in dark chocolate, burly and a good fit for the power thirsty.\n",
      "Predicted:  54.905437 Actual:  40.0 \n",
      "\n",
      "An unusual blend of Chardonnay, Grüner Veltliner and Riesling that works so well, it's not possible to detect which varietal gives which characteristic to this richly layered wine. Aged in wood, this is ripe and concentrated with flavors of spring herbs along side firm minerality.\n",
      "Predicted:  34.389053 Actual:  30.0 \n",
      "\n",
      "Hard in tannins and bone dry, this Malbec needs rich beef dishes to balance out the astringency. It has a ripe heart of blackberries and currants, and is at its best now. Decant for a few hours.\n",
      "Predicted:  26.863386 Actual:  28.0 \n",
      "\n",
      "Intensely diesel-like on the nose, almost to the point of nuttiness, then full-bodied, broad and muscular on the palate, delivering flavors of oranges and wet stones. It's drier than many spätlesen, and while it may lack a bit of raciness and elgance, it makes up for it with sheer power.\n",
      "Predicted:  32.10668 Actual:  32.0 \n",
      "\n",
      "Good for Atlas Peak for holding this Cabernet for more than five years before releasing it. It's still tannic and young, with intense blackberry, blueberry and cassis flavors that are dry and spicy. Showing an elegant mouthfeel, it needs a little more time. Hold until 2015, but it could develop over the next decade.\n",
      "Predicted:  94.67176 Actual:  86.0 \n",
      "\n",
      "Here's a top-shelf expression of Pinot Grigio that shares the best qualities of a high-level white wine. In fact, it offers a whole new face for the popular Italian white wine thanks to its complexity and rich density. It delivers aromas of mature fruit, vanilla cream, honeysuckle and stone fruit.\n",
      "Predicted:  35.31211 Actual:  38.0 \n",
      "\n",
      "You'll find this underrated producer offers wines with wonderful density and concentration, ripely balanced, plummy, mixed red fruits, and elegantly astringent tannins. There is real winemaking craft on display here, every detail beautifully rendered, substantial but not out of whack in any way. The fragrant, evocative results showcase the fruit but also buttress it with properly managed acids, tannins and new oak.\n",
      "Predicted:  26.340694 Actual:  30.0 \n",
      "\n",
      "Tender notes of ripe, juicy pear with more golden inflections of ripe yellow plum and peach on nose and palate close into a central seam of bright, sprightly and immensely toning acidity. Lightness, concentration and lip-smacking freshness are framed by rounded fruit. Structure and grace signal ageing potential. The finish is wonderfully dry and full of verve.\n",
      "Predicted:  28.41296 Actual:  25.0 \n",
      "\n",
      "This opens with a very pretty nose composed of rose petals, pear, orange peel and orange liqueur. Soft and pretty, it shows the feminine side of Viognier, avoids the bitterness and excessive alcohol that can detract from its elegance. A lovely springtime apéritif.\n",
      "Predicted:  12.161438 Actual:  19.0 \n",
      "\n",
      "Coming in at a low (for Washington) alcohol level for this variety, this 100% Grenache shows light aromas of mint and other herbs with elusive raspberry and plum accents. It's medium bodied with an elegant, supple feel, showing little obvious new-oak influence to the red fruit flavors. A very intriguing wine where the texture plays a starring role in the show.\n",
      "Predicted:  40.271965 Actual:  35.0 \n",
      "\n",
      "Dry, tannic and featureless, with slight berry flavors.\n",
      "Predicted:  27.616367 Actual:  19.0 \n",
      "\n",
      "Pure, condensed and dark on the nose, with blasting aromas of blackberry, crusty spice and char, this is packed like an overstuffed suitcase, with flavors of jammy black fruit, fine herbs and spice. Shows more big fruit on the finish and plenty of lasting berry flavor. Drink now through 2014.\n",
      "Predicted:  29.357147 Actual:  42.0 \n",
      "\n",
      "Opens with red fruit aromas that are like a million other generic red wines, while the body has size, grab and stickiness. Flavors of cola, cherry, cassis and plum are red in nature and basically good, while the finish is candied but not overly so. An everyman's Cabernet in every sense of the word.\n",
      "Predicted:  15.786141 Actual:  12.0 \n",
      "\n",
      "Snappy yet smooth, with subtle apple, toast and vanilla aromas. Very good in terms of feel, with dry, spicy flavors of baked apple, white pepper and herbs. Slightly mature notes of mushroom and Sherry rise up on the finish, lending this bubbly added complexity. Imported by Empson (USA) Ltd.\n",
      "Predicted:  24.327541 Actual:  36.0 \n",
      "\n",
      "Dry tannins dominate this rough-edged wine. There are plenty of bitter cherry and cocoa flavors, while the acidity gives an attractive freshness. Those tannins need a year to settle down.\n",
      "Predicted:  21.059519 Actual:  20.0 \n",
      "\n",
      "This is a thin, unfussy wine that imparts bell pepper and asparagus in a sea of green flavor.\n",
      "Predicted:  21.880919 Actual:  65.0 \n",
      "\n",
      "Some of Seghesio's plantings are over a century old, and the wine has a classic, briary quality to it. Supple and inviting, it drinks well now but has the balance and structure to age for a few years.\n",
      "Predicted:  19.721176 Actual:  18.0 \n",
      "\n",
      "This red wine, named for the chef at the winery restaurant, is fruity and high-toned, with lots of cherry and berry flavor. All neutral oak, soft tannins, ready to drink.\n",
      "Predicted:  46.482277 Actual:  55.0 \n",
      "\n",
      "This is a floral take on Merlot, in both scents and flavors; owing at least in part to the inclusion of 7% Petit Verdot. The wine gathers strength and fleshes out as it warms in the glass, and layers in darker notes with smoke and coffee and tar. A steely style, muscular and tight, it smoothes out nicely with breathing time, and shows excellent aging potential.\n",
      "Predicted:  70.60307 Actual:  70.0 \n",
      "\n",
      "Oaky, with butterscotch, vanilla cream and caramel flavors that swamp the underlying pineapple and pear fruit. If you're a fan of super-oaked Chardonnays, it's for you.\n",
      "Predicted:  23.742453 Actual:  25.0 \n",
      "\n",
      "Grassy and herbal on the nose, then shows more stone-fruit flavors on the palate. Turns dry and stony on the finish. Imported by Sauvage Selections.\n",
      "Predicted:  13.419051 Actual:  15.0 \n",
      "\n",
      "Medium bodied and dry, this has a savory spiciness, with long-lasting flavors of cherry and smoky, vanilla-scented oak. A coating of finely ground tannins gives it enough bite to accompany steak. One of the best Cabernet Francs from the Russian River Valley in a long time.\n",
      "Predicted:  52.997128 Actual:  28.0 \n",
      "\n",
      "Simple jammy aromas lead to a hard, acidic palate offers some red fruit flavor but also an undercurrent of field greens. A lasting streak of bell pepper on the finish doesn't help bring it around.\n",
      "Predicted:  9.206938 Actual:  10.0 \n",
      "\n",
      "Tasted at more than four years of age, this is a standout effort in a series that dates back to the mid-1990s. A complex nose greets you with a floral, dusty tickle, leading into a fruit-packed wine, with blueberry and black cherry most evident. Notes of black olive and graphite come through on the long finish, with exceptional grip and polish.\n",
      "Predicted:  41.07596 Actual:  45.0 \n",
      "\n",
      "Dramatically structured and flavored, this is a tough, young mountain wine that deserves to be cellared. It's perfectly dry, with distinct flavors of blackberries, green olives, cocoa and new oak, but those tannins assault with youthful astringency. Give this wine four or five years to soften.\n",
      "Predicted:  48.071102 Actual:  35.0 \n",
      "\n",
      "Bitter black cherries are the hallmark of this rather hard-edged wine. It shows dark tannins and fruit that misses full richness. Maybe it is restrained power, maybe it will age, but the balance is not there now.\n",
      "Predicted:  34.021683 Actual:  36.0 \n",
      "\n",
      "Sometimes all you need is a nice, inexpensive Merlot to go with that steak, and this is a good one. It's dry and fruity, a little rough around the edges, with rich berry-cherry flavors and a full, complete mouthfeel.\n",
      "Predicted:  12.336115 Actual:  12.0 \n",
      "\n"
     ]
    }
   ],
   "source": [
    "\n",
    "# Compare predictions with actual values for the first few items in our test dataset\n",
    "num_predictions = 40\n",
    "diff = 0\n",
    "\n",
    "for i in range(num_predictions):\n",
    "    val = predictions[i]\n",
    "    print(description_test.iloc[i])\n",
    "    print('Predicted: ', val[0], 'Actual: ', labels_test.iloc[i], '\\n')\n",
    "    diff += abs(val[0] - labels_test.iloc[i])"
   ]
  },
  {
   "cell_type": "code",
   "execution_count": 23,
   "metadata": {
    "colab": {
     "base_uri": "https://localhost:8080/",
     "height": 35
    },
    "colab_type": "code",
    "id": "M2L2nUg9fb02",
    "outputId": "47cc9e3f-38f0-47cb-8bb6-3e281a008e96"
   },
   "outputs": [
    {
     "name": "stdout",
     "output_type": "stream",
     "text": [
      "Average prediction difference:  7.6529751181602474\n"
     ]
    }
   ],
   "source": [
    "# Compare the average difference between actual price and the model's predicted price\n",
    "print('Average prediction difference: ', diff / num_predictions)"
   ]
  }
 ],
 "metadata": {
  "colab": {
   "name": "Untitled5.ipynb",
   "provenance": [],
   "version": "0.3.2"
  },
  "kernelspec": {
   "display_name": "Python 3",
   "language": "python",
   "name": "python3"
  },
  "language_info": {
   "codemirror_mode": {
    "name": "ipython",
    "version": 3
   },
   "file_extension": ".py",
   "mimetype": "text/x-python",
   "name": "python",
   "nbconvert_exporter": "python",
   "pygments_lexer": "ipython3",
   "version": "3.6.4"
  }
 },
 "nbformat": 4,
 "nbformat_minor": 1
}
